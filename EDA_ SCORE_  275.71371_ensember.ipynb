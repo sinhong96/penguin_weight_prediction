{
  "nbformat": 4,
  "nbformat_minor": 0,
  "metadata": {
    "colab": {
      "name": "데이콘_펭귄 몸무게 예측 경진대회_성지코딩.ipynb",
      "provenance": [],
      "collapsed_sections": []
    },
    "kernelspec": {
      "name": "python3",
      "display_name": "Python 3"
    },
    "language_info": {
      "name": "python"
    }
  },
  "cells": [
    {
      "cell_type": "markdown",
      "source": [
        "# 펭귄 몸무게 예측 dacon"
      ],
      "metadata": {
        "id": "Iog_CEmPnZt3"
      }
    },
    {
      "cell_type": "code",
      "execution_count": 207,
      "metadata": {
        "id": "RXlpoIzup3Tg"
      },
      "outputs": [],
      "source": [
        "import pandas as pd \n",
        "import numpy as np\n",
        "import matplotlib.pyplot as plt\n",
        "import seaborn as sns\n",
        "from sklearn.preprocessing import LabelEncoder\n",
        "\n",
        "# 다운받은 csv를 pandas의 DataFrame 형식으로 불러옵니다.\n",
        "import pandas as pd \n",
        "df_train = pd.read_csv('/content/drive/MyDrive/dacon/penguin_weight_predict/train.csv')\n",
        "df_test = pd.read_csv('/content/drive/MyDrive/dacon/penguin_weight_predict/test.csv')\n",
        "\n"
      ]
    },
    {
      "cell_type": "markdown",
      "source": [
        "features 파악"
      ],
      "metadata": {
        "id": "KDOvsegZr7VO"
      }
    },
    {
      "cell_type": "code",
      "source": [
        "df_train.info(), df_test.info()"
      ],
      "metadata": {
        "colab": {
          "base_uri": "https://localhost:8080/"
        },
        "id": "Al8tG1Opr-DP",
        "outputId": "6b40cb60-6261-4b2c-8a8a-e280e3560da6"
      },
      "execution_count": 208,
      "outputs": [
        {
          "output_type": "stream",
          "name": "stdout",
          "text": [
            "<class 'pandas.core.frame.DataFrame'>\n",
            "RangeIndex: 114 entries, 0 to 113\n",
            "Data columns (total 11 columns):\n",
            " #   Column               Non-Null Count  Dtype  \n",
            "---  ------               --------------  -----  \n",
            " 0   id                   114 non-null    int64  \n",
            " 1   Species              114 non-null    object \n",
            " 2   Island               114 non-null    object \n",
            " 3   Clutch Completion    114 non-null    object \n",
            " 4   Culmen Length (mm)   114 non-null    float64\n",
            " 5   Culmen Depth (mm)    114 non-null    float64\n",
            " 6   Flipper Length (mm)  114 non-null    int64  \n",
            " 7   Sex                  111 non-null    object \n",
            " 8   Delta 15 N (o/oo)    111 non-null    float64\n",
            " 9   Delta 13 C (o/oo)    111 non-null    float64\n",
            " 10  Body Mass (g)        114 non-null    int64  \n",
            "dtypes: float64(4), int64(3), object(4)\n",
            "memory usage: 9.9+ KB\n",
            "<class 'pandas.core.frame.DataFrame'>\n",
            "RangeIndex: 228 entries, 0 to 227\n",
            "Data columns (total 10 columns):\n",
            " #   Column               Non-Null Count  Dtype  \n",
            "---  ------               --------------  -----  \n",
            " 0   id                   228 non-null    int64  \n",
            " 1   Species              228 non-null    object \n",
            " 2   Island               228 non-null    object \n",
            " 3   Clutch Completion    228 non-null    object \n",
            " 4   Culmen Length (mm)   228 non-null    float64\n",
            " 5   Culmen Depth (mm)    228 non-null    float64\n",
            " 6   Flipper Length (mm)  228 non-null    float64\n",
            " 7   Sex                  222 non-null    object \n",
            " 8   Delta 15 N (o/oo)    219 non-null    float64\n",
            " 9   Delta 13 C (o/oo)    220 non-null    float64\n",
            "dtypes: float64(5), int64(1), object(4)\n",
            "memory usage: 17.9+ KB\n"
          ]
        },
        {
          "output_type": "execute_result",
          "data": {
            "text/plain": [
              "(None, None)"
            ]
          },
          "metadata": {},
          "execution_count": 208
        }
      ]
    },
    {
      "cell_type": "markdown",
      "source": [
        ""
      ],
      "metadata": {
        "id": "ukmRx8ftA5nQ"
      }
    },
    {
      "cell_type": "code",
      "source": [
        "df_train.drop('id', axis=1, inplace = True) # id는 제외하고 분석\n",
        "df_test.drop('id', axis=1, inplace = True)\n",
        "print(f'df_train 결측치 조회\\n{df_train.isna().sum()}') \n",
        "print(f'df_test 결측치 조회\\n{df_test.isna().sum()}')\n"
      ],
      "metadata": {
        "colab": {
          "base_uri": "https://localhost:8080/"
        },
        "id": "wacQ6eKQVioo",
        "outputId": "68a97c6b-02eb-4159-d798-35153f14695d"
      },
      "execution_count": 209,
      "outputs": [
        {
          "output_type": "stream",
          "name": "stdout",
          "text": [
            "df_train 결측치 조회\n",
            "Species                0\n",
            "Island                 0\n",
            "Clutch Completion      0\n",
            "Culmen Length (mm)     0\n",
            "Culmen Depth (mm)      0\n",
            "Flipper Length (mm)    0\n",
            "Sex                    3\n",
            "Delta 15 N (o/oo)      3\n",
            "Delta 13 C (o/oo)      3\n",
            "Body Mass (g)          0\n",
            "dtype: int64\n",
            "df_test 결측치 조회\n",
            "Species                0\n",
            "Island                 0\n",
            "Clutch Completion      0\n",
            "Culmen Length (mm)     0\n",
            "Culmen Depth (mm)      0\n",
            "Flipper Length (mm)    0\n",
            "Sex                    6\n",
            "Delta 15 N (o/oo)      9\n",
            "Delta 13 C (o/oo)      8\n",
            "dtype: int64\n"
          ]
        }
      ]
    },
    {
      "cell_type": "markdown",
      "source": [
        "결측치가 train셋에는 9개, test셋에는 23개가 있습니다. 적절히 처리해주어야 할 것 같습니다!"
      ],
      "metadata": {
        "id": "7_guGGX5A7ve"
      }
    },
    {
      "cell_type": "code",
      "source": [
        "df_train.fillna(df_train.mean(), inplace=True)\n",
        "df_test.fillna(df_train.mean(), inplace=True)\n",
        "\n",
        "df_train.isna().sum(), df_test.isna().sum()\n",
        "\n",
        "temp_train = df_train.dropna()\n",
        "temp_test = df_test.dropna()"
      ],
      "metadata": {
        "id": "YCLj7y9-stdH"
      },
      "execution_count": 210,
      "outputs": []
    },
    {
      "cell_type": "markdown",
      "source": [
        "숫자형 데이터에 대해서는 평균값을 적용해 주었고 성별에 따른 몸무게의 변화가 클 것으로 예상해서 성별은 보간법을 사용하였습니다!"
      ],
      "metadata": {
        "id": "SXgBz0b7BFyv"
      }
    },
    {
      "cell_type": "markdown",
      "source": [
        "# Sex에 대하여 보간법 진행\n",
        "보간법은 쉽게말해 'Sex'를 예측하는 모델을 만들고 그 예측 값을 넣어주는 것을 의미합니다.\n",
        "\n"
      ],
      "metadata": {
        "id": "aqCarZmqyiwG"
      }
    },
    {
      "cell_type": "code",
      "source": [
        "X_train_Sex = temp_train.select_dtypes(include=['int', 'float'])\n",
        "X_train_Sex = X_train_Sex.drop('Body Mass (g)', axis=1)\n",
        "Y_train_Sex = temp_train['Sex']\n",
        "\n",
        "from sklearn.model_selection import train_test_split\n",
        "\n",
        "sex_x_train, sex_x_test, sex_y_train, sex_y_test = train_test_split(X_train_Sex, Y_train_Sex)\n",
        "from sklearn.ensemble import RandomForestClassifier\n",
        "model_sex = RandomForestClassifier().fit(sex_x_train, sex_y_train)\n",
        "model_sex.score(sex_x_test, sex_y_test)"
      ],
      "metadata": {
        "colab": {
          "base_uri": "https://localhost:8080/"
        },
        "id": "PZaKerh2yokX",
        "outputId": "99a2bd17-bdc6-4da3-a289-3eaaa63c9f7b"
      },
      "execution_count": 211,
      "outputs": [
        {
          "output_type": "execute_result",
          "data": {
            "text/plain": [
              "0.7142857142857143"
            ]
          },
          "metadata": {},
          "execution_count": 211
        }
      ]
    },
    {
      "cell_type": "markdown",
      "source": [
        "RandomForestClassifier 모델을 통해 성별을 예측하는 모델을 만들었습니다."
      ],
      "metadata": {
        "id": "kmWgrZQlBkG0"
      }
    },
    {
      "cell_type": "code",
      "source": [
        "df_train.isna().sum()"
      ],
      "metadata": {
        "colab": {
          "base_uri": "https://localhost:8080/"
        },
        "id": "c0igVLmt5pn6",
        "outputId": "fc09b6a6-b834-435a-bd05-33102fe840d6"
      },
      "execution_count": 212,
      "outputs": [
        {
          "output_type": "execute_result",
          "data": {
            "text/plain": [
              "Species                0\n",
              "Island                 0\n",
              "Clutch Completion      0\n",
              "Culmen Length (mm)     0\n",
              "Culmen Depth (mm)      0\n",
              "Flipper Length (mm)    0\n",
              "Sex                    3\n",
              "Delta 15 N (o/oo)      0\n",
              "Delta 13 C (o/oo)      0\n",
              "Body Mass (g)          0\n",
              "dtype: int64"
            ]
          },
          "metadata": {},
          "execution_count": 212
        }
      ]
    },
    {
      "cell_type": "markdown",
      "source": [
        "train셋 결측치 대체"
      ],
      "metadata": {
        "id": "IHtuI8WA7Ieg"
      }
    },
    {
      "cell_type": "code",
      "source": [
        "df_train.loc[df_train['Sex'].isna(), 'Sex'] = model_sex.predict(df_train[df_train['Sex'].isna()].select_dtypes(include=['int', 'float']).drop('Body Mass (g)', axis=1))"
      ],
      "metadata": {
        "id": "RrcsKOfZ5TIG"
      },
      "execution_count": 213,
      "outputs": []
    },
    {
      "cell_type": "markdown",
      "source": [
        "train셋 결측치 대체"
      ],
      "metadata": {
        "id": "ec2gdYVY7VYV"
      }
    },
    {
      "cell_type": "code",
      "source": [
        "df_test.loc[df_test['Sex'].isna(), 'Sex'] = model_sex.predict(df_test[df_test['Sex'].isna()].select_dtypes(include=['int', 'float']))"
      ],
      "metadata": {
        "id": "IpdzEReR7OgW"
      },
      "execution_count": 214,
      "outputs": []
    },
    {
      "cell_type": "markdown",
      "source": [
        "한 줄로 동시에 쓰느랴 복잡해 보이지만, 'Sex'에 대해 학습된 model_sex의 predict를 사용하여 값을 가져와 대입시켜주었습니다. 여기서 select_dtypes는 지정된 열의 타입만 가져오게 됩니다. 저는 int형과 float형을 추출하였고, test셋에는 'Body Mass (g)' 컬럼이 없기 때문에, 이를 포함하여 학습을 시키면 안됩니다. 따라서 drop을 통해 해당 열을 제거하였습니다."
      ],
      "metadata": {
        "id": "a8hb_YGuP9tF"
      }
    },
    {
      "cell_type": "markdown",
      "source": [
        ""
      ],
      "metadata": {
        "id": "Mfon6ZgeP-JD"
      }
    },
    {
      "cell_type": "markdown",
      "source": [
        "성별 숫자화 (MALE: 0, FEMALE: 1)"
      ],
      "metadata": {
        "id": "_aGG7tLF5Kt_"
      }
    },
    {
      "cell_type": "code",
      "source": [
        "temp_train.loc[df_train['Sex'] == 'MALE', 'Sex'] = 0\n",
        "temp_train.loc[df_train['Sex'] == 'FEMALE', 'Sex'] = 1"
      ],
      "metadata": {
        "colab": {
          "base_uri": "https://localhost:8080/"
        },
        "id": "lqoD4tAN41Ms",
        "outputId": "9c076ab9-0052-4613-c36a-f296b000a104"
      },
      "execution_count": 215,
      "outputs": [
        {
          "output_type": "stream",
          "name": "stderr",
          "text": [
            "/usr/local/lib/python3.7/dist-packages/pandas/core/indexing.py:1763: SettingWithCopyWarning: \n",
            "A value is trying to be set on a copy of a slice from a DataFrame.\n",
            "Try using .loc[row_indexer,col_indexer] = value instead\n",
            "\n",
            "See the caveats in the documentation: https://pandas.pydata.org/pandas-docs/stable/user_guide/indexing.html#returning-a-view-versus-a-copy\n",
            "  isetter(loc, value)\n"
          ]
        }
      ]
    },
    {
      "cell_type": "code",
      "source": [
        "df_train = pd.get_dummies(df_train)\n",
        "df_test = pd.get_dummies(df_test)"
      ],
      "metadata": {
        "id": "zNfnZP-ez4SR"
      },
      "execution_count": 216,
      "outputs": []
    },
    {
      "cell_type": "markdown",
      "source": [
        "pd.get_dummies함수는 정형 데이터에 대해 자동으로 One-Hot인코딩을 진행해주는 똑똑한 함수입니다."
      ],
      "metadata": {
        "id": "VC1Sc5PyB5e3"
      }
    },
    {
      "cell_type": "markdown",
      "source": [
        ""
      ],
      "metadata": {
        "id": "YCnW6qa6Xqqd"
      }
    },
    {
      "cell_type": "code",
      "source": [
        "X = df_train.drop('Body Mass (g)', axis=1) # label을 제외한 나머지 컬럼들을 X에 저장합니다.\n",
        "Y = df_train['Body Mass (g)'] # label인 Body mess를 Y에 저장합니다.\n",
        "Y"
      ],
      "metadata": {
        "colab": {
          "base_uri": "https://localhost:8080/"
        },
        "id": "mieZrtpZ4Pev",
        "outputId": "25998479-a536-46a8-f3f3-d5126a1c5a6c"
      },
      "execution_count": 217,
      "outputs": [
        {
          "output_type": "execute_result",
          "data": {
            "text/plain": [
              "0      5550\n",
              "1      3800\n",
              "2      4400\n",
              "3      4850\n",
              "4      5700\n",
              "       ... \n",
              "109    3700\n",
              "110    4250\n",
              "111    4100\n",
              "112    2700\n",
              "113    5600\n",
              "Name: Body Mass (g), Length: 114, dtype: int64"
            ]
          },
          "metadata": {},
          "execution_count": 217
        }
      ]
    },
    {
      "cell_type": "code",
      "source": [
        "plt.figure(figsize=(15, 15))\n",
        "\n",
        "for idx, col in enumerate(list(df_train)):\n",
        "    plt.subplot(4, 4, idx+1)\n",
        "    sns.boxplot(df_train[col])"
      ],
      "metadata": {
        "colab": {
          "base_uri": "https://localhost:8080/",
          "height": 1000
        },
        "id": "tdXCkZ0FM9JE",
        "outputId": "0ae9106d-6877-4c4c-e543-a38b01e12141"
      },
      "execution_count": 218,
      "outputs": [
        {
          "output_type": "stream",
          "name": "stderr",
          "text": [
            "/usr/local/lib/python3.7/dist-packages/seaborn/_decorators.py:43: FutureWarning: Pass the following variable as a keyword arg: x. From version 0.12, the only valid positional argument will be `data`, and passing other arguments without an explicit keyword will result in an error or misinterpretation.\n",
            "  FutureWarning\n",
            "/usr/local/lib/python3.7/dist-packages/seaborn/_decorators.py:43: FutureWarning: Pass the following variable as a keyword arg: x. From version 0.12, the only valid positional argument will be `data`, and passing other arguments without an explicit keyword will result in an error or misinterpretation.\n",
            "  FutureWarning\n",
            "/usr/local/lib/python3.7/dist-packages/seaborn/_decorators.py:43: FutureWarning: Pass the following variable as a keyword arg: x. From version 0.12, the only valid positional argument will be `data`, and passing other arguments without an explicit keyword will result in an error or misinterpretation.\n",
            "  FutureWarning\n",
            "/usr/local/lib/python3.7/dist-packages/seaborn/_decorators.py:43: FutureWarning: Pass the following variable as a keyword arg: x. From version 0.12, the only valid positional argument will be `data`, and passing other arguments without an explicit keyword will result in an error or misinterpretation.\n",
            "  FutureWarning\n",
            "/usr/local/lib/python3.7/dist-packages/seaborn/_decorators.py:43: FutureWarning: Pass the following variable as a keyword arg: x. From version 0.12, the only valid positional argument will be `data`, and passing other arguments without an explicit keyword will result in an error or misinterpretation.\n",
            "  FutureWarning\n",
            "/usr/local/lib/python3.7/dist-packages/seaborn/_decorators.py:43: FutureWarning: Pass the following variable as a keyword arg: x. From version 0.12, the only valid positional argument will be `data`, and passing other arguments without an explicit keyword will result in an error or misinterpretation.\n",
            "  FutureWarning\n",
            "/usr/local/lib/python3.7/dist-packages/seaborn/_decorators.py:43: FutureWarning: Pass the following variable as a keyword arg: x. From version 0.12, the only valid positional argument will be `data`, and passing other arguments without an explicit keyword will result in an error or misinterpretation.\n",
            "  FutureWarning\n",
            "/usr/local/lib/python3.7/dist-packages/seaborn/_decorators.py:43: FutureWarning: Pass the following variable as a keyword arg: x. From version 0.12, the only valid positional argument will be `data`, and passing other arguments without an explicit keyword will result in an error or misinterpretation.\n",
            "  FutureWarning\n",
            "/usr/local/lib/python3.7/dist-packages/seaborn/_decorators.py:43: FutureWarning: Pass the following variable as a keyword arg: x. From version 0.12, the only valid positional argument will be `data`, and passing other arguments without an explicit keyword will result in an error or misinterpretation.\n",
            "  FutureWarning\n",
            "/usr/local/lib/python3.7/dist-packages/seaborn/_decorators.py:43: FutureWarning: Pass the following variable as a keyword arg: x. From version 0.12, the only valid positional argument will be `data`, and passing other arguments without an explicit keyword will result in an error or misinterpretation.\n",
            "  FutureWarning\n",
            "/usr/local/lib/python3.7/dist-packages/seaborn/_decorators.py:43: FutureWarning: Pass the following variable as a keyword arg: x. From version 0.12, the only valid positional argument will be `data`, and passing other arguments without an explicit keyword will result in an error or misinterpretation.\n",
            "  FutureWarning\n",
            "/usr/local/lib/python3.7/dist-packages/seaborn/_decorators.py:43: FutureWarning: Pass the following variable as a keyword arg: x. From version 0.12, the only valid positional argument will be `data`, and passing other arguments without an explicit keyword will result in an error or misinterpretation.\n",
            "  FutureWarning\n",
            "/usr/local/lib/python3.7/dist-packages/seaborn/_decorators.py:43: FutureWarning: Pass the following variable as a keyword arg: x. From version 0.12, the only valid positional argument will be `data`, and passing other arguments without an explicit keyword will result in an error or misinterpretation.\n",
            "  FutureWarning\n",
            "/usr/local/lib/python3.7/dist-packages/seaborn/_decorators.py:43: FutureWarning: Pass the following variable as a keyword arg: x. From version 0.12, the only valid positional argument will be `data`, and passing other arguments without an explicit keyword will result in an error or misinterpretation.\n",
            "  FutureWarning\n",
            "/usr/local/lib/python3.7/dist-packages/seaborn/_decorators.py:43: FutureWarning: Pass the following variable as a keyword arg: x. From version 0.12, the only valid positional argument will be `data`, and passing other arguments without an explicit keyword will result in an error or misinterpretation.\n",
            "  FutureWarning\n",
            "/usr/local/lib/python3.7/dist-packages/seaborn/_decorators.py:43: FutureWarning: Pass the following variable as a keyword arg: x. From version 0.12, the only valid positional argument will be `data`, and passing other arguments without an explicit keyword will result in an error or misinterpretation.\n",
            "  FutureWarning\n"
          ]
        },
        {
          "output_type": "display_data",
          "data": {
            "image/png": "[encoded data removed]",
            "text/plain": [
              "<Figure size 1080x1080 with 16 Axes>"
            ]
          },
          "metadata": {
            "needs_background": "light"
          }
        }
      ]
    },
    {
      "cell_type": "code",
      "source": [
        "X"
      ],
      "metadata": {
        "colab": {
          "base_uri": "https://localhost:8080/",
          "height": 540
        },
        "id": "yZgIR7PPHgvs",
        "outputId": "6e8cf4be-4de7-419c-a584-0647e76840d4"
      },
      "execution_count": 219,
      "outputs": [
        {
          "output_type": "execute_result",
          "data": {
            "text/html": [
              "\n",
              "  <div id=\"df-204b67f7-0e47-44a5-9328-dba3c6a72b58\">\n",
              "    <div class=\"colab-df-container\">\n",
              "      <div>\n",
              "<style scoped>\n",
              "    .dataframe tbody tr th:only-of-type {\n",
              "        vertical-align: middle;\n",
              "    }\n",
              "\n",
              "    .dataframe tbody tr th {\n",
              "        vertical-align: top;\n",
              "    }\n",
              "\n",
              "    .dataframe thead th {\n",
              "        text-align: right;\n",
              "    }\n",
              "</style>\n",
              "<table border=\"1\" class=\"dataframe\">\n",
              "  <thead>\n",
              "    <tr style=\"text-align: right;\">\n",
              "      <th></th>\n",
              "      <th>Culmen Length (mm)</th>\n",
              "      <th>Culmen Depth (mm)</th>\n",
              "      <th>Flipper Length (mm)</th>\n",
              "      <th>Delta 15 N (o/oo)</th>\n",
              "      <th>Delta 13 C (o/oo)</th>\n",
              "      <th>Species_Adelie Penguin (Pygoscelis adeliae)</th>\n",
              "      <th>Species_Chinstrap penguin (Pygoscelis antarctica)</th>\n",
              "      <th>Species_Gentoo penguin (Pygoscelis papua)</th>\n",
              "      <th>Island_Biscoe</th>\n",
              "      <th>Island_Dream</th>\n",
              "      <th>Island_Torgersen</th>\n",
              "      <th>Clutch Completion_No</th>\n",
              "      <th>Clutch Completion_Yes</th>\n",
              "      <th>Sex_FEMALE</th>\n",
              "      <th>Sex_MALE</th>\n",
              "    </tr>\n",
              "  </thead>\n",
              "  <tbody>\n",
              "    <tr>\n",
              "      <th>0</th>\n",
              "      <td>50.0</td>\n",
              "      <td>15.3</td>\n",
              "      <td>220</td>\n",
              "      <td>8.305150</td>\n",
              "      <td>-25.190170</td>\n",
              "      <td>0</td>\n",
              "      <td>0</td>\n",
              "      <td>1</td>\n",
              "      <td>1</td>\n",
              "      <td>0</td>\n",
              "      <td>0</td>\n",
              "      <td>0</td>\n",
              "      <td>1</td>\n",
              "      <td>0</td>\n",
              "      <td>1</td>\n",
              "    </tr>\n",
              "    <tr>\n",
              "      <th>1</th>\n",
              "      <td>49.5</td>\n",
              "      <td>19.0</td>\n",
              "      <td>200</td>\n",
              "      <td>9.630740</td>\n",
              "      <td>-24.346840</td>\n",
              "      <td>0</td>\n",
              "      <td>1</td>\n",
              "      <td>0</td>\n",
              "      <td>0</td>\n",
              "      <td>1</td>\n",
              "      <td>0</td>\n",
              "      <td>1</td>\n",
              "      <td>0</td>\n",
              "      <td>0</td>\n",
              "      <td>1</td>\n",
              "    </tr>\n",
              "    <tr>\n",
              "      <th>2</th>\n",
              "      <td>45.1</td>\n",
              "      <td>14.4</td>\n",
              "      <td>210</td>\n",
              "      <td>8.519510</td>\n",
              "      <td>-27.018540</td>\n",
              "      <td>0</td>\n",
              "      <td>0</td>\n",
              "      <td>1</td>\n",
              "      <td>1</td>\n",
              "      <td>0</td>\n",
              "      <td>0</td>\n",
              "      <td>0</td>\n",
              "      <td>1</td>\n",
              "      <td>1</td>\n",
              "      <td>0</td>\n",
              "    </tr>\n",
              "    <tr>\n",
              "      <th>3</th>\n",
              "      <td>44.5</td>\n",
              "      <td>14.7</td>\n",
              "      <td>214</td>\n",
              "      <td>8.201060</td>\n",
              "      <td>-26.165240</td>\n",
              "      <td>0</td>\n",
              "      <td>0</td>\n",
              "      <td>1</td>\n",
              "      <td>1</td>\n",
              "      <td>0</td>\n",
              "      <td>0</td>\n",
              "      <td>0</td>\n",
              "      <td>1</td>\n",
              "      <td>1</td>\n",
              "      <td>0</td>\n",
              "    </tr>\n",
              "    <tr>\n",
              "      <th>4</th>\n",
              "      <td>49.6</td>\n",
              "      <td>16.0</td>\n",
              "      <td>225</td>\n",
              "      <td>8.383240</td>\n",
              "      <td>-26.842720</td>\n",
              "      <td>0</td>\n",
              "      <td>0</td>\n",
              "      <td>1</td>\n",
              "      <td>1</td>\n",
              "      <td>0</td>\n",
              "      <td>0</td>\n",
              "      <td>1</td>\n",
              "      <td>0</td>\n",
              "      <td>0</td>\n",
              "      <td>1</td>\n",
              "    </tr>\n",
              "    <tr>\n",
              "      <th>...</th>\n",
              "      <td>...</td>\n",
              "      <td>...</td>\n",
              "      <td>...</td>\n",
              "      <td>...</td>\n",
              "      <td>...</td>\n",
              "      <td>...</td>\n",
              "      <td>...</td>\n",
              "      <td>...</td>\n",
              "      <td>...</td>\n",
              "      <td>...</td>\n",
              "      <td>...</td>\n",
              "      <td>...</td>\n",
              "      <td>...</td>\n",
              "      <td>...</td>\n",
              "      <td>...</td>\n",
              "    </tr>\n",
              "    <tr>\n",
              "      <th>109</th>\n",
              "      <td>36.6</td>\n",
              "      <td>17.8</td>\n",
              "      <td>185</td>\n",
              "      <td>8.737634</td>\n",
              "      <td>-25.723051</td>\n",
              "      <td>1</td>\n",
              "      <td>0</td>\n",
              "      <td>0</td>\n",
              "      <td>0</td>\n",
              "      <td>0</td>\n",
              "      <td>1</td>\n",
              "      <td>0</td>\n",
              "      <td>1</td>\n",
              "      <td>1</td>\n",
              "      <td>0</td>\n",
              "    </tr>\n",
              "    <tr>\n",
              "      <th>110</th>\n",
              "      <td>39.2</td>\n",
              "      <td>18.6</td>\n",
              "      <td>190</td>\n",
              "      <td>9.110060</td>\n",
              "      <td>-25.795490</td>\n",
              "      <td>1</td>\n",
              "      <td>0</td>\n",
              "      <td>0</td>\n",
              "      <td>0</td>\n",
              "      <td>1</td>\n",
              "      <td>0</td>\n",
              "      <td>0</td>\n",
              "      <td>1</td>\n",
              "      <td>0</td>\n",
              "      <td>1</td>\n",
              "    </tr>\n",
              "    <tr>\n",
              "      <th>111</th>\n",
              "      <td>43.2</td>\n",
              "      <td>18.5</td>\n",
              "      <td>192</td>\n",
              "      <td>8.970250</td>\n",
              "      <td>-26.036790</td>\n",
              "      <td>1</td>\n",
              "      <td>0</td>\n",
              "      <td>0</td>\n",
              "      <td>0</td>\n",
              "      <td>1</td>\n",
              "      <td>0</td>\n",
              "      <td>0</td>\n",
              "      <td>1</td>\n",
              "      <td>0</td>\n",
              "      <td>1</td>\n",
              "    </tr>\n",
              "    <tr>\n",
              "      <th>112</th>\n",
              "      <td>46.9</td>\n",
              "      <td>16.6</td>\n",
              "      <td>192</td>\n",
              "      <td>9.805890</td>\n",
              "      <td>-24.737350</td>\n",
              "      <td>0</td>\n",
              "      <td>1</td>\n",
              "      <td>0</td>\n",
              "      <td>0</td>\n",
              "      <td>1</td>\n",
              "      <td>0</td>\n",
              "      <td>1</td>\n",
              "      <td>0</td>\n",
              "      <td>1</td>\n",
              "      <td>0</td>\n",
              "    </tr>\n",
              "    <tr>\n",
              "      <th>113</th>\n",
              "      <td>50.8</td>\n",
              "      <td>17.3</td>\n",
              "      <td>228</td>\n",
              "      <td>8.274280</td>\n",
              "      <td>-26.300190</td>\n",
              "      <td>0</td>\n",
              "      <td>0</td>\n",
              "      <td>1</td>\n",
              "      <td>1</td>\n",
              "      <td>0</td>\n",
              "      <td>0</td>\n",
              "      <td>0</td>\n",
              "      <td>1</td>\n",
              "      <td>0</td>\n",
              "      <td>1</td>\n",
              "    </tr>\n",
              "  </tbody>\n",
              "</table>\n",
              "<p>114 rows × 15 columns</p>\n",
              "</div>\n",
              "      <button class=\"colab-df-convert\" onclick=\"convertToInteractive('df-204b67f7-0e47-44a5-9328-dba3c6a72b58')\"\n",
              "              title=\"Convert this dataframe to an interactive table.\"\n",
              "              style=\"display:none;\">\n",
              "        \n",
              "  <svg xmlns=\"http://www.w3.org/2000/svg\" height=\"24px\"viewBox=\"0 0 24 24\"\n",
              "       width=\"24px\">\n",
              "    <path d=\"M0 0h24v24H0V0z\" fill=\"none\"/>\n",
              "    <path d=\"M18.56 5.44l.94 2.06.94-2.06 2.06-.94-2.06-.94-.94-2.06-.94 2.06-2.06.94zm-11 1L8.5 8.5l.94-2.06 2.06-.94-2.06-.94L8.5 2.5l-.94 2.06-2.06.94zm10 10l.94 2.06.94-2.06 2.06-.94-2.06-.94-.94-2.06-.94 2.06-2.06.94z\"/><path d=\"M17.41 7.96l-1.37-1.37c-.4-.4-.92-.59-1.43-.59-.52 0-1.04.2-1.43.59L10.3 9.45l-7.72 7.72c-.78.78-.78 2.05 0 2.83L4 21.41c.39.39.9.59 1.41.59.51 0 1.02-.2 1.41-.59l7.78-7.78 2.81-2.81c.8-.78.8-2.07 0-2.86zM5.41 20L4 18.59l7.72-7.72 1.47 1.35L5.41 20z\"/>\n",
              "  </svg>\n",
              "      </button>\n",
              "      \n",
              "  <style>\n",
              "    .colab-df-container {\n",
              "      display:flex;\n",
              "      flex-wrap:wrap;\n",
              "      gap: 12px;\n",
              "    }\n",
              "\n",
              "    .colab-df-convert {\n",
              "      background-color: #E8F0FE;\n",
              "      border: none;\n",
              "      border-radius: 50%;\n",
              "      cursor: pointer;\n",
              "      display: none;\n",
              "      fill: #1967D2;\n",
              "      height: 32px;\n",
              "      padding: 0 0 0 0;\n",
              "      width: 32px;\n",
              "    }\n",
              "\n",
              "    .colab-df-convert:hover {\n",
              "      background-color: #E2EBFA;\n",
              "      box-shadow: 0px 1px 2px rgba(60, 64, 67, 0.3), 0px 1px 3px 1px rgba(60, 64, 67, 0.15);\n",
              "      fill: #174EA6;\n",
              "    }\n",
              "\n",
              "    [theme=dark] .colab-df-convert {\n",
              "      background-color: #3B4455;\n",
              "      fill: #D2E3FC;\n",
              "    }\n",
              "\n",
              "    [theme=dark] .colab-df-convert:hover {\n",
              "      background-color: #434B5C;\n",
              "      box-shadow: 0px 1px 3px 1px rgba(0, 0, 0, 0.15);\n",
              "      filter: drop-shadow(0px 1px 2px rgba(0, 0, 0, 0.3));\n",
              "      fill: #FFFFFF;\n",
              "    }\n",
              "  </style>\n",
              "\n",
              "      <script>\n",
              "        const buttonEl =\n",
              "          document.querySelector('#df-204b67f7-0e47-44a5-9328-dba3c6a72b58 button.colab-df-convert');\n",
              "        buttonEl.style.display =\n",
              "          google.colab.kernel.accessAllowed ? 'block' : 'none';\n",
              "\n",
              "        async function convertToInteractive(key) {\n",
              "          const element = document.querySelector('#df-204b67f7-0e47-44a5-9328-dba3c6a72b58');\n",
              "          const dataTable =\n",
              "            await google.colab.kernel.invokeFunction('convertToInteractive',\n",
              "                                                     [key], {});\n",
              "          if (!dataTable) return;\n",
              "\n",
              "          const docLinkHtml = 'Like what you see? Visit the ' +\n",
              "            '<a target=\"_blank\" href=https://colab.research.google.com/notebooks/data_table.ipynb>data table notebook</a>'\n",
              "            + ' to learn more about interactive tables.';\n",
              "          element.innerHTML = '';\n",
              "          dataTable['output_type'] = 'display_data';\n",
              "          await google.colab.output.renderOutput(dataTable, element);\n",
              "          const docLink = document.createElement('div');\n",
              "          docLink.innerHTML = docLinkHtml;\n",
              "          element.appendChild(docLink);\n",
              "        }\n",
              "      </script>\n",
              "    </div>\n",
              "  </div>\n",
              "  "
            ],
            "text/plain": [
              "     Culmen Length (mm)  Culmen Depth (mm)  ...  Sex_FEMALE  Sex_MALE\n",
              "0                  50.0               15.3  ...           0         1\n",
              "1                  49.5               19.0  ...           0         1\n",
              "2                  45.1               14.4  ...           1         0\n",
              "3                  44.5               14.7  ...           1         0\n",
              "4                  49.6               16.0  ...           0         1\n",
              "..                  ...                ...  ...         ...       ...\n",
              "109                36.6               17.8  ...           1         0\n",
              "110                39.2               18.6  ...           0         1\n",
              "111                43.2               18.5  ...           0         1\n",
              "112                46.9               16.6  ...           1         0\n",
              "113                50.8               17.3  ...           0         1\n",
              "\n",
              "[114 rows x 15 columns]"
            ]
          },
          "metadata": {},
          "execution_count": 219
        }
      ]
    },
    {
      "cell_type": "code",
      "source": [
        "from sklearn.model_selection import train_test_split\n",
        "\n",
        "x_train, x_test, y_train, y_test = train_test_split(X, Y, test_size=0.1)"
      ],
      "metadata": {
        "id": "NWP_gImq6sEf"
      },
      "execution_count": 220,
      "outputs": []
    },
    {
      "cell_type": "markdown",
      "source": [
        ""
      ],
      "metadata": {
        "id": "R6eiObILILZ8"
      }
    },
    {
      "cell_type": "code",
      "source": [
        "from sklearn.neighbors import KNeighborsRegressor\n",
        "from sklearn.linear_model import LinearRegression\n",
        "from sklearn.linear_model import Ridge\n",
        "from sklearn.linear_model import Lasso\n",
        "from sklearn.tree import DecisionTreeRegressor\n",
        "from sklearn.ensemble import RandomForestRegressor\n",
        "from sklearn.ensemble import GradientBoostingRegressor\n",
        "from xgboost import XGBRegressor\n",
        "from lightgbm import LGBMRegressor"
      ],
      "metadata": {
        "id": "kbtcddgRy0er"
      },
      "execution_count": 221,
      "outputs": []
    },
    {
      "cell_type": "markdown",
      "source": [
        "모델의 선택은 시행착오라고 배웠습니다. 따라서 여러 개의 모델들의 성능을 출력해보고 그 중 탑3를 가져와 앙상블을 진행해보겠습니다."
      ],
      "metadata": {
        "id": "VTmzequJCEjH"
      }
    },
    {
      "cell_type": "code",
      "source": [
        "score_List=[]"
      ],
      "metadata": {
        "id": "88pMqVuMvNit"
      },
      "execution_count": 222,
      "outputs": []
    },
    {
      "cell_type": "code",
      "source": [
        "model = KNeighborsRegressor(n_neighbors=5).fit(x_train, y_train)\n",
        "score_List.append(f'KNeighborsRegressor: train_score: {model.score(x_train, y_train)}, val_score: {model.score(x_test, y_test)}')\n",
        "\n",
        "model = LinearRegression().fit(x_train, y_train)\n",
        "score_List.append(f'LinearRegression: train_score: {model.score(x_train, y_train)}, val_score: {model.score(x_test, y_test)}')\n",
        "\n",
        "model = Ridge().fit(x_train, y_train)\n",
        "score_List.append(f'Ridge: train_score: {model.score(x_train, y_train)}, val_score: {model.score(x_test, y_test)}')\n",
        "\n",
        "model = Lasso().fit(x_train, y_train)\n",
        "score_List.append(f'Lasso: train_score: {model.score(x_train, y_train)}, val_score: {model.score(x_test, y_test)}')\n",
        "\n",
        "model = DecisionTreeRegressor().fit(x_train, y_train)\n",
        "score_List.append(f'DecisionTreeRegressor: train_score: {model.score(x_train, y_train)}, val_score: {model.score(x_test, y_test)}')\n",
        "\n",
        "model = RandomForestRegressor().fit(x_train, y_train)\n",
        "score_List.append(f'RandomForestRegressor: train_score: {model.score(x_train, y_train)}, val_score: {model.score(x_test, y_test)}')\n",
        "\n",
        "model = GradientBoostingRegressor().fit(x_train, y_train)\n",
        "score_List.append(f'GradientBoostingRegressor: train_score: {model.score(x_train, y_train)}, val_score: {model.score(x_test, y_test)}')\n",
        "\n",
        "model = XGBRegressor().fit(x_train, y_train)\n",
        "score_List.append(f'XGBRegressor: train_score: {model.score(x_train, y_train)}, val_score: {model.score(x_test, y_test)}')\n",
        "\n",
        "model = LGBMRegressor().fit(x_train, y_train)\n",
        "score_List.append(f'LGBMRegressor: train_score: {model.score(x_train, y_train)}, val_score: {model.score(x_test, y_test)}')"
      ],
      "metadata": {
        "colab": {
          "base_uri": "https://localhost:8080/"
        },
        "id": "BASYQX45vT1M",
        "outputId": "83128c0b-fb44-44cb-b053-2e0fd91972af"
      },
      "execution_count": 223,
      "outputs": [
        {
          "output_type": "stream",
          "name": "stdout",
          "text": [
            "[07:07:20] WARNING: /workspace/src/objective/regression_obj.cu:152: reg:linear is now deprecated in favor of reg:squarederror.\n"
          ]
        }
      ]
    },
    {
      "cell_type": "code",
      "source": [
        "[print(i) for i in score_List]"
      ],
      "metadata": {
        "colab": {
          "base_uri": "https://localhost:8080/"
        },
        "id": "XzKK76U_we03",
        "outputId": "f3d45729-0770-4733-de05-b8ba433cf6f7"
      },
      "execution_count": 224,
      "outputs": [
        {
          "output_type": "stream",
          "name": "stdout",
          "text": [
            "KNeighborsRegressor: train_score: 0.8301928567056356, val_score: 0.875772541382668\n",
            "LinearRegression: train_score: 0.8594947749917681, val_score: 0.9167359178026265\n",
            "Ridge: train_score: 0.8577846721970602, val_score: 0.9143732873642861\n",
            "Lasso: train_score: 0.8593350695815092, val_score: 0.9165999528083434\n",
            "DecisionTreeRegressor: train_score: 1.0, val_score: 0.7184615384615385\n",
            "RandomForestRegressor: train_score: 0.9703964514198173, val_score: 0.9219167244401169\n",
            "GradientBoostingRegressor: train_score: 0.9886723944508632, val_score: 0.8586486347877862\n",
            "XGBRegressor: train_score: 0.9738336862364578, val_score: 0.9180427240051838\n",
            "LGBMRegressor: train_score: 0.9013839561551917, val_score: 0.9133448503563318\n"
          ]
        },
        {
          "output_type": "execute_result",
          "data": {
            "text/plain": [
              "[None, None, None, None, None, None, None, None, None]"
            ]
          },
          "metadata": {},
          "execution_count": 224
        }
      ]
    },
    {
      "cell_type": "markdown",
      "source": [
        "train_score가 아닌 val_score를 봐주셔야합니다.\n",
        "\n",
        "LinearRegression, Ridge, Lasso, LGBMRegressor 등이 성능이 좋게 나온 것을 확인할 수 있었습니다."
      ],
      "metadata": {
        "id": "QQp1Fqq3PD2O"
      }
    },
    {
      "cell_type": "code",
      "source": [
        "model_LR = LinearRegression().fit(X, Y)\n",
        "model_RID = Ridge().fit(X, Y)\n",
        "model_LA = Lasso().fit(X, Y)\n",
        "model_LGBM = LGBMRegressor().fit(X, Y)\n",
        "model_XGB = XGBRegressor().fit(X, Y)"
      ],
      "metadata": {
        "colab": {
          "base_uri": "https://localhost:8080/"
        },
        "id": "ygwtVH1m9GV5",
        "outputId": "2bb6e873-fbc1-4ff6-fe7c-31ff84faaad9"
      },
      "execution_count": 229,
      "outputs": [
        {
          "output_type": "stream",
          "name": "stdout",
          "text": [
            "[07:09:11] WARNING: /workspace/src/objective/regression_obj.cu:152: reg:linear is now deprecated in favor of reg:squarederror.\n"
          ]
        }
      ]
    },
    {
      "cell_type": "markdown",
      "source": [
        "random_state가 없기 때문에 순위는 항상 바뀝니다.\n",
        "저는 LinearRegression, Ridge, Lasso, XGBRegressor, LGBMRegressor 모델을 택했습니다."
      ],
      "metadata": {
        "id": "L0eAmw-DCOOZ"
      }
    },
    {
      "cell_type": "code",
      "source": [
        "df_test"
      ],
      "metadata": {
        "colab": {
          "base_uri": "https://localhost:8080/",
          "height": 540
        },
        "id": "ozLAOVev94V3",
        "outputId": "fad45d1b-fe06-44a5-925f-dad6ada290b0"
      },
      "execution_count": 226,
      "outputs": [
        {
          "output_type": "execute_result",
          "data": {
            "text/html": [
              "\n",
              "  <div id=\"df-bd37d41d-bc5f-4636-90a3-8ed91673db85\">\n",
              "    <div class=\"colab-df-container\">\n",
              "      <div>\n",
              "<style scoped>\n",
              "    .dataframe tbody tr th:only-of-type {\n",
              "        vertical-align: middle;\n",
              "    }\n",
              "\n",
              "    .dataframe tbody tr th {\n",
              "        vertical-align: top;\n",
              "    }\n",
              "\n",
              "    .dataframe thead th {\n",
              "        text-align: right;\n",
              "    }\n",
              "</style>\n",
              "<table border=\"1\" class=\"dataframe\">\n",
              "  <thead>\n",
              "    <tr style=\"text-align: right;\">\n",
              "      <th></th>\n",
              "      <th>Culmen Length (mm)</th>\n",
              "      <th>Culmen Depth (mm)</th>\n",
              "      <th>Flipper Length (mm)</th>\n",
              "      <th>Delta 15 N (o/oo)</th>\n",
              "      <th>Delta 13 C (o/oo)</th>\n",
              "      <th>Species_Adelie Penguin (Pygoscelis adeliae)</th>\n",
              "      <th>Species_Chinstrap penguin (Pygoscelis antarctica)</th>\n",
              "      <th>Species_Gentoo penguin (Pygoscelis papua)</th>\n",
              "      <th>Island_Biscoe</th>\n",
              "      <th>Island_Dream</th>\n",
              "      <th>Island_Torgersen</th>\n",
              "      <th>Clutch Completion_No</th>\n",
              "      <th>Clutch Completion_Yes</th>\n",
              "      <th>Sex_FEMALE</th>\n",
              "      <th>Sex_MALE</th>\n",
              "    </tr>\n",
              "  </thead>\n",
              "  <tbody>\n",
              "    <tr>\n",
              "      <th>0</th>\n",
              "      <td>52.0</td>\n",
              "      <td>20.7</td>\n",
              "      <td>210.0</td>\n",
              "      <td>9.43146</td>\n",
              "      <td>-24.68440</td>\n",
              "      <td>0</td>\n",
              "      <td>1</td>\n",
              "      <td>0</td>\n",
              "      <td>0</td>\n",
              "      <td>1</td>\n",
              "      <td>0</td>\n",
              "      <td>0</td>\n",
              "      <td>1</td>\n",
              "      <td>0</td>\n",
              "      <td>1</td>\n",
              "    </tr>\n",
              "    <tr>\n",
              "      <th>1</th>\n",
              "      <td>55.9</td>\n",
              "      <td>17.0</td>\n",
              "      <td>228.0</td>\n",
              "      <td>8.31180</td>\n",
              "      <td>-26.35425</td>\n",
              "      <td>0</td>\n",
              "      <td>0</td>\n",
              "      <td>1</td>\n",
              "      <td>1</td>\n",
              "      <td>0</td>\n",
              "      <td>0</td>\n",
              "      <td>0</td>\n",
              "      <td>1</td>\n",
              "      <td>0</td>\n",
              "      <td>1</td>\n",
              "    </tr>\n",
              "    <tr>\n",
              "      <th>2</th>\n",
              "      <td>38.9</td>\n",
              "      <td>18.8</td>\n",
              "      <td>190.0</td>\n",
              "      <td>8.36936</td>\n",
              "      <td>-26.11199</td>\n",
              "      <td>1</td>\n",
              "      <td>0</td>\n",
              "      <td>0</td>\n",
              "      <td>0</td>\n",
              "      <td>1</td>\n",
              "      <td>0</td>\n",
              "      <td>0</td>\n",
              "      <td>1</td>\n",
              "      <td>1</td>\n",
              "      <td>0</td>\n",
              "    </tr>\n",
              "    <tr>\n",
              "      <th>3</th>\n",
              "      <td>45.2</td>\n",
              "      <td>16.6</td>\n",
              "      <td>191.0</td>\n",
              "      <td>9.62357</td>\n",
              "      <td>-24.78984</td>\n",
              "      <td>0</td>\n",
              "      <td>1</td>\n",
              "      <td>0</td>\n",
              "      <td>0</td>\n",
              "      <td>1</td>\n",
              "      <td>0</td>\n",
              "      <td>0</td>\n",
              "      <td>1</td>\n",
              "      <td>1</td>\n",
              "      <td>0</td>\n",
              "    </tr>\n",
              "    <tr>\n",
              "      <th>4</th>\n",
              "      <td>37.9</td>\n",
              "      <td>18.6</td>\n",
              "      <td>172.0</td>\n",
              "      <td>8.38404</td>\n",
              "      <td>-25.19837</td>\n",
              "      <td>1</td>\n",
              "      <td>0</td>\n",
              "      <td>0</td>\n",
              "      <td>1</td>\n",
              "      <td>0</td>\n",
              "      <td>0</td>\n",
              "      <td>1</td>\n",
              "      <td>0</td>\n",
              "      <td>1</td>\n",
              "      <td>0</td>\n",
              "    </tr>\n",
              "    <tr>\n",
              "      <th>...</th>\n",
              "      <td>...</td>\n",
              "      <td>...</td>\n",
              "      <td>...</td>\n",
              "      <td>...</td>\n",
              "      <td>...</td>\n",
              "      <td>...</td>\n",
              "      <td>...</td>\n",
              "      <td>...</td>\n",
              "      <td>...</td>\n",
              "      <td>...</td>\n",
              "      <td>...</td>\n",
              "      <td>...</td>\n",
              "      <td>...</td>\n",
              "      <td>...</td>\n",
              "      <td>...</td>\n",
              "    </tr>\n",
              "    <tr>\n",
              "      <th>223</th>\n",
              "      <td>49.3</td>\n",
              "      <td>19.9</td>\n",
              "      <td>203.0</td>\n",
              "      <td>9.88809</td>\n",
              "      <td>-24.59513</td>\n",
              "      <td>0</td>\n",
              "      <td>1</td>\n",
              "      <td>0</td>\n",
              "      <td>0</td>\n",
              "      <td>1</td>\n",
              "      <td>0</td>\n",
              "      <td>0</td>\n",
              "      <td>1</td>\n",
              "      <td>0</td>\n",
              "      <td>1</td>\n",
              "    </tr>\n",
              "    <tr>\n",
              "      <th>224</th>\n",
              "      <td>46.5</td>\n",
              "      <td>14.8</td>\n",
              "      <td>217.0</td>\n",
              "      <td>8.58487</td>\n",
              "      <td>-26.59290</td>\n",
              "      <td>0</td>\n",
              "      <td>0</td>\n",
              "      <td>1</td>\n",
              "      <td>1</td>\n",
              "      <td>0</td>\n",
              "      <td>0</td>\n",
              "      <td>0</td>\n",
              "      <td>1</td>\n",
              "      <td>1</td>\n",
              "      <td>0</td>\n",
              "    </tr>\n",
              "    <tr>\n",
              "      <th>225</th>\n",
              "      <td>46.5</td>\n",
              "      <td>13.5</td>\n",
              "      <td>210.0</td>\n",
              "      <td>7.99530</td>\n",
              "      <td>-25.32829</td>\n",
              "      <td>0</td>\n",
              "      <td>0</td>\n",
              "      <td>1</td>\n",
              "      <td>1</td>\n",
              "      <td>0</td>\n",
              "      <td>0</td>\n",
              "      <td>0</td>\n",
              "      <td>1</td>\n",
              "      <td>1</td>\n",
              "      <td>0</td>\n",
              "    </tr>\n",
              "    <tr>\n",
              "      <th>226</th>\n",
              "      <td>50.5</td>\n",
              "      <td>19.6</td>\n",
              "      <td>201.0</td>\n",
              "      <td>9.80590</td>\n",
              "      <td>-24.72940</td>\n",
              "      <td>0</td>\n",
              "      <td>1</td>\n",
              "      <td>0</td>\n",
              "      <td>0</td>\n",
              "      <td>1</td>\n",
              "      <td>0</td>\n",
              "      <td>0</td>\n",
              "      <td>1</td>\n",
              "      <td>0</td>\n",
              "      <td>1</td>\n",
              "    </tr>\n",
              "    <tr>\n",
              "      <th>227</th>\n",
              "      <td>37.6</td>\n",
              "      <td>19.1</td>\n",
              "      <td>194.0</td>\n",
              "      <td>9.10800</td>\n",
              "      <td>-25.89677</td>\n",
              "      <td>1</td>\n",
              "      <td>0</td>\n",
              "      <td>0</td>\n",
              "      <td>1</td>\n",
              "      <td>0</td>\n",
              "      <td>0</td>\n",
              "      <td>0</td>\n",
              "      <td>1</td>\n",
              "      <td>0</td>\n",
              "      <td>1</td>\n",
              "    </tr>\n",
              "  </tbody>\n",
              "</table>\n",
              "<p>228 rows × 15 columns</p>\n",
              "</div>\n",
              "      <button class=\"colab-df-convert\" onclick=\"convertToInteractive('df-bd37d41d-bc5f-4636-90a3-8ed91673db85')\"\n",
              "              title=\"Convert this dataframe to an interactive table.\"\n",
              "              style=\"display:none;\">\n",
              "        \n",
              "  <svg xmlns=\"http://www.w3.org/2000/svg\" height=\"24px\"viewBox=\"0 0 24 24\"\n",
              "       width=\"24px\">\n",
              "    <path d=\"M0 0h24v24H0V0z\" fill=\"none\"/>\n",
              "    <path d=\"M18.56 5.44l.94 2.06.94-2.06 2.06-.94-2.06-.94-.94-2.06-.94 2.06-2.06.94zm-11 1L8.5 8.5l.94-2.06 2.06-.94-2.06-.94L8.5 2.5l-.94 2.06-2.06.94zm10 10l.94 2.06.94-2.06 2.06-.94-2.06-.94-.94-2.06-.94 2.06-2.06.94z\"/><path d=\"M17.41 7.96l-1.37-1.37c-.4-.4-.92-.59-1.43-.59-.52 0-1.04.2-1.43.59L10.3 9.45l-7.72 7.72c-.78.78-.78 2.05 0 2.83L4 21.41c.39.39.9.59 1.41.59.51 0 1.02-.2 1.41-.59l7.78-7.78 2.81-2.81c.8-.78.8-2.07 0-2.86zM5.41 20L4 18.59l7.72-7.72 1.47 1.35L5.41 20z\"/>\n",
              "  </svg>\n",
              "      </button>\n",
              "      \n",
              "  <style>\n",
              "    .colab-df-container {\n",
              "      display:flex;\n",
              "      flex-wrap:wrap;\n",
              "      gap: 12px;\n",
              "    }\n",
              "\n",
              "    .colab-df-convert {\n",
              "      background-color: #E8F0FE;\n",
              "      border: none;\n",
              "      border-radius: 50%;\n",
              "      cursor: pointer;\n",
              "      display: none;\n",
              "      fill: #1967D2;\n",
              "      height: 32px;\n",
              "      padding: 0 0 0 0;\n",
              "      width: 32px;\n",
              "    }\n",
              "\n",
              "    .colab-df-convert:hover {\n",
              "      background-color: #E2EBFA;\n",
              "      box-shadow: 0px 1px 2px rgba(60, 64, 67, 0.3), 0px 1px 3px 1px rgba(60, 64, 67, 0.15);\n",
              "      fill: #174EA6;\n",
              "    }\n",
              "\n",
              "    [theme=dark] .colab-df-convert {\n",
              "      background-color: #3B4455;\n",
              "      fill: #D2E3FC;\n",
              "    }\n",
              "\n",
              "    [theme=dark] .colab-df-convert:hover {\n",
              "      background-color: #434B5C;\n",
              "      box-shadow: 0px 1px 3px 1px rgba(0, 0, 0, 0.15);\n",
              "      filter: drop-shadow(0px 1px 2px rgba(0, 0, 0, 0.3));\n",
              "      fill: #FFFFFF;\n",
              "    }\n",
              "  </style>\n",
              "\n",
              "      <script>\n",
              "        const buttonEl =\n",
              "          document.querySelector('#df-bd37d41d-bc5f-4636-90a3-8ed91673db85 button.colab-df-convert');\n",
              "        buttonEl.style.display =\n",
              "          google.colab.kernel.accessAllowed ? 'block' : 'none';\n",
              "\n",
              "        async function convertToInteractive(key) {\n",
              "          const element = document.querySelector('#df-bd37d41d-bc5f-4636-90a3-8ed91673db85');\n",
              "          const dataTable =\n",
              "            await google.colab.kernel.invokeFunction('convertToInteractive',\n",
              "                                                     [key], {});\n",
              "          if (!dataTable) return;\n",
              "\n",
              "          const docLinkHtml = 'Like what you see? Visit the ' +\n",
              "            '<a target=\"_blank\" href=https://colab.research.google.com/notebooks/data_table.ipynb>data table notebook</a>'\n",
              "            + ' to learn more about interactive tables.';\n",
              "          element.innerHTML = '';\n",
              "          dataTable['output_type'] = 'display_data';\n",
              "          await google.colab.output.renderOutput(dataTable, element);\n",
              "          const docLink = document.createElement('div');\n",
              "          docLink.innerHTML = docLinkHtml;\n",
              "          element.appendChild(docLink);\n",
              "        }\n",
              "      </script>\n",
              "    </div>\n",
              "  </div>\n",
              "  "
            ],
            "text/plain": [
              "     Culmen Length (mm)  Culmen Depth (mm)  ...  Sex_FEMALE  Sex_MALE\n",
              "0                  52.0               20.7  ...           0         1\n",
              "1                  55.9               17.0  ...           0         1\n",
              "2                  38.9               18.8  ...           1         0\n",
              "3                  45.2               16.6  ...           1         0\n",
              "4                  37.9               18.6  ...           1         0\n",
              "..                  ...                ...  ...         ...       ...\n",
              "223                49.3               19.9  ...           0         1\n",
              "224                46.5               14.8  ...           1         0\n",
              "225                46.5               13.5  ...           1         0\n",
              "226                50.5               19.6  ...           0         1\n",
              "227                37.6               19.1  ...           0         1\n",
              "\n",
              "[228 rows x 15 columns]"
            ]
          },
          "metadata": {},
          "execution_count": 226
        }
      ]
    },
    {
      "cell_type": "markdown",
      "source": [
        ""
      ],
      "metadata": {
        "id": "1gKiG2Wj92_y"
      }
    },
    {
      "cell_type": "markdown",
      "source": [
        "앙상블 진행, 사실 저도 머신러닝 초보이기때문에 이 개념이 앙상블이 맞는지는 모르겠습니다. 하지만 단언컨데 성능향상은 확실했습니다."
      ],
      "metadata": {
        "id": "WTSqkXMLCdBY"
      }
    },
    {
      "cell_type": "code",
      "source": [
        "pred_LR = model_LR.predict(df_test)\n",
        "pred_RID = model_RID.predict(df_test)\n",
        "pred_LA = model_LA.predict(df_test)\n",
        "pred_LGBM = model_LGBM.predict(df_test)\n",
        "pred_XGB = model_XGB.predict(df_test)\n",
        "pred = pred_LR*0.2 + pred_RID*0.2 + pred_LA*0.2 + pred_LGBM*0.2 + pred_XGB*0.2\n",
        "pred"
      ],
      "metadata": {
        "colab": {
          "base_uri": "https://localhost:8080/"
        },
        "id": "cZMkPzrp9Sw7",
        "outputId": "c51e6ce3-8768-4a42-9c77-d94eac666a2d"
      },
      "execution_count": 232,
      "outputs": [
        {
          "output_type": "execute_result",
          "data": {
            "text/plain": [
              "array([4296.38341603, 5617.17908427, 3582.81749177, 3341.96510485,\n",
              "       3515.42719278, 4168.8488163 , 4598.1678269 , 5200.74638305,\n",
              "       4768.69399496, 4109.48404092, 4173.34113757, 4600.63819173,\n",
              "       4704.1441789 , 4717.2500542 , 5105.12358674, 5229.19208889,\n",
              "       4119.00119479, 3988.68346095, 3452.8107821 , 3573.27255128,\n",
              "       4178.35819871, 5565.01893117, 5467.84443517, 4037.62415609,\n",
              "       3491.75071548, 4609.09326923, 3455.87279818, 4033.18736591,\n",
              "       4096.25885929, 4725.71305048, 3574.3251474 , 4750.09917094,\n",
              "       3612.95962176, 4999.15172267, 3988.39397403, 3299.46567497,\n",
              "       4593.36343471, 3699.68247678, 4062.72914853, 4664.04140276,\n",
              "       4072.57152789, 3594.03158457, 4024.82860017, 5386.78379461,\n",
              "       3715.88865674, 4675.16647083, 3444.02343997, 4240.07287007,\n",
              "       4756.32170228, 5583.83488281, 3706.70922111, 4167.67377287,\n",
              "       3415.97331504, 4191.69209961, 4193.0625203 , 4099.83398557,\n",
              "       4698.12371088, 4124.08037147, 4700.35135537, 3634.64727021,\n",
              "       4099.75387947, 3530.02694665, 3979.09078331, 5531.55910237,\n",
              "       3446.96836611, 4179.22768555, 4174.42049257, 4646.7550832 ,\n",
              "       3904.03534581, 3952.45174916, 4754.57654603, 3265.62995701,\n",
              "       3521.42550787, 3496.22413935, 5463.6115562 , 4417.24496336,\n",
              "       3349.9116147 , 3864.09752512, 5341.06369274, 4679.69304288,\n",
              "       4131.05611638, 3434.5707597 , 4195.73055327, 4702.24082853,\n",
              "       5154.72859948, 4168.72354841, 5325.15094634, 4206.99329183,\n",
              "       3530.14231152, 5140.02715842, 4570.99736676, 3603.87084724,\n",
              "       3601.53239269, 3696.72281792, 3396.84584322, 3390.00540177,\n",
              "       3556.00666924, 3401.09708277, 4735.45634107, 4186.65953739,\n",
              "       3544.97643796, 3316.02363599, 3358.12338845, 5338.03301609,\n",
              "       5728.2314845 , 3332.51613337, 5320.46903413, 5386.9672318 ,\n",
              "       4194.91847513, 3391.15502917, 4563.75500794, 3301.22084576,\n",
              "       4088.88715676, 4080.84798815, 5226.71687449, 3913.36274612,\n",
              "       3581.74613937, 3525.55384578, 4204.69177173, 3956.86273866,\n",
              "       3924.77253496, 5329.03550309, 3458.16541978, 4415.91034867,\n",
              "       3952.71126719, 4096.20898956, 5174.53736747, 4186.45157621,\n",
              "       3401.19237801, 3821.3200138 , 4103.51545672, 3956.72735211,\n",
              "       5334.87972234, 5183.82312268, 5245.02997163, 4014.6193465 ,\n",
              "       3623.81649023, 3457.27864919, 4646.08418295, 3448.10195159,\n",
              "       3947.80798771, 4587.84056316, 3288.77807338, 3395.85460048,\n",
              "       4377.53648286, 3449.93270537, 4670.56623489, 3616.60410788,\n",
              "       5506.70504944, 4196.32727653, 5291.00190211, 3550.45371337,\n",
              "       4844.28317694, 5364.9783863 , 4130.22299506, 5621.19220896,\n",
              "       3525.3838137 , 4072.0271521 , 3533.93786744, 3508.58215854,\n",
              "       4040.6104382 , 3424.67182966, 3454.27830029, 3264.20666405,\n",
              "       5239.12882696, 3430.35471756, 5435.45585606, 4839.42978292,\n",
              "       4061.8018735 , 3829.5975741 , 5541.02072822, 3450.90366095,\n",
              "       5271.30150062, 3381.09587039, 3553.49741943, 4142.99302795,\n",
              "       4176.59314412, 4567.22514206, 5397.13294273, 3478.62679466,\n",
              "       3950.50073705, 4221.43677577, 3898.36353638, 4411.2236886 ,\n",
              "       4559.76835275, 4307.39516994, 4958.30457498, 5200.81776945,\n",
              "       3450.55600348, 3208.10392648, 4259.05627877, 3577.04993311,\n",
              "       3724.39012332, 4124.90865688, 4924.892895  , 5460.21818097,\n",
              "       4151.8059953 , 5239.79786574, 3543.77819886, 3434.29349274,\n",
              "       3922.03168486, 4631.22656357, 3965.72390842, 4727.95652535,\n",
              "       4191.27694727, 3382.69157916, 3507.04208948, 4224.63439542,\n",
              "       4874.22438331, 4759.7390112 , 3373.14103746, 3387.00026929,\n",
              "       3438.32593293, 3646.43514323, 3630.85558142, 4032.00779876,\n",
              "       5462.51368615, 3712.72109442, 4246.05708026, 4063.37805304,\n",
              "       3564.91021891, 3483.99525101, 4696.90811975, 4073.57771449,\n",
              "       4701.29764535, 4616.33731398, 3959.97141924, 4088.10154498])"
            ]
          },
          "metadata": {},
          "execution_count": 232
        }
      ]
    },
    {
      "cell_type": "code",
      "source": [
        "submission = pd.read_csv('/content/drive/MyDrive/dacon/penguin_weight_predict/submission.csv')\n",
        "submission['Body Mass (g)'] = pred\n",
        "\n",
        "submission.to_csv('/content/drive/MyDrive/dacon/penguin_weight_predict/submission.csv', index=False)\n",
        "submission"
      ],
      "metadata": {
        "colab": {
          "base_uri": "https://localhost:8080/",
          "height": 424
        },
        "id": "v_Pbov-U-Ta4",
        "outputId": "464601ab-7e33-41b9-8b15-ec1c0b75e5ac"
      },
      "execution_count": 234,
      "outputs": [
        {
          "output_type": "execute_result",
          "data": {
            "text/html": [
              "\n",
              "  <div id=\"df-06582372-3004-4426-be72-09e4356cff7d\">\n",
              "    <div class=\"colab-df-container\">\n",
              "      <div>\n",
              "<style scoped>\n",
              "    .dataframe tbody tr th:only-of-type {\n",
              "        vertical-align: middle;\n",
              "    }\n",
              "\n",
              "    .dataframe tbody tr th {\n",
              "        vertical-align: top;\n",
              "    }\n",
              "\n",
              "    .dataframe thead th {\n",
              "        text-align: right;\n",
              "    }\n",
              "</style>\n",
              "<table border=\"1\" class=\"dataframe\">\n",
              "  <thead>\n",
              "    <tr style=\"text-align: right;\">\n",
              "      <th></th>\n",
              "      <th>id</th>\n",
              "      <th>Body Mass (g)</th>\n",
              "    </tr>\n",
              "  </thead>\n",
              "  <tbody>\n",
              "    <tr>\n",
              "      <th>0</th>\n",
              "      <td>0</td>\n",
              "      <td>4296.383416</td>\n",
              "    </tr>\n",
              "    <tr>\n",
              "      <th>1</th>\n",
              "      <td>1</td>\n",
              "      <td>5617.179084</td>\n",
              "    </tr>\n",
              "    <tr>\n",
              "      <th>2</th>\n",
              "      <td>2</td>\n",
              "      <td>3582.817492</td>\n",
              "    </tr>\n",
              "    <tr>\n",
              "      <th>3</th>\n",
              "      <td>3</td>\n",
              "      <td>3341.965105</td>\n",
              "    </tr>\n",
              "    <tr>\n",
              "      <th>4</th>\n",
              "      <td>4</td>\n",
              "      <td>3515.427193</td>\n",
              "    </tr>\n",
              "    <tr>\n",
              "      <th>...</th>\n",
              "      <td>...</td>\n",
              "      <td>...</td>\n",
              "    </tr>\n",
              "    <tr>\n",
              "      <th>223</th>\n",
              "      <td>223</td>\n",
              "      <td>4073.577714</td>\n",
              "    </tr>\n",
              "    <tr>\n",
              "      <th>224</th>\n",
              "      <td>224</td>\n",
              "      <td>4701.297645</td>\n",
              "    </tr>\n",
              "    <tr>\n",
              "      <th>225</th>\n",
              "      <td>225</td>\n",
              "      <td>4616.337314</td>\n",
              "    </tr>\n",
              "    <tr>\n",
              "      <th>226</th>\n",
              "      <td>226</td>\n",
              "      <td>3959.971419</td>\n",
              "    </tr>\n",
              "    <tr>\n",
              "      <th>227</th>\n",
              "      <td>227</td>\n",
              "      <td>4088.101545</td>\n",
              "    </tr>\n",
              "  </tbody>\n",
              "</table>\n",
              "<p>228 rows × 2 columns</p>\n",
              "</div>\n",
              "      <button class=\"colab-df-convert\" onclick=\"convertToInteractive('df-06582372-3004-4426-be72-09e4356cff7d')\"\n",
              "              title=\"Convert this dataframe to an interactive table.\"\n",
              "              style=\"display:none;\">\n",
              "        \n",
              "  <svg xmlns=\"http://www.w3.org/2000/svg\" height=\"24px\"viewBox=\"0 0 24 24\"\n",
              "       width=\"24px\">\n",
              "    <path d=\"M0 0h24v24H0V0z\" fill=\"none\"/>\n",
              "    <path d=\"M18.56 5.44l.94 2.06.94-2.06 2.06-.94-2.06-.94-.94-2.06-.94 2.06-2.06.94zm-11 1L8.5 8.5l.94-2.06 2.06-.94-2.06-.94L8.5 2.5l-.94 2.06-2.06.94zm10 10l.94 2.06.94-2.06 2.06-.94-2.06-.94-.94-2.06-.94 2.06-2.06.94z\"/><path d=\"M17.41 7.96l-1.37-1.37c-.4-.4-.92-.59-1.43-.59-.52 0-1.04.2-1.43.59L10.3 9.45l-7.72 7.72c-.78.78-.78 2.05 0 2.83L4 21.41c.39.39.9.59 1.41.59.51 0 1.02-.2 1.41-.59l7.78-7.78 2.81-2.81c.8-.78.8-2.07 0-2.86zM5.41 20L4 18.59l7.72-7.72 1.47 1.35L5.41 20z\"/>\n",
              "  </svg>\n",
              "      </button>\n",
              "      \n",
              "  <style>\n",
              "    .colab-df-container {\n",
              "      display:flex;\n",
              "      flex-wrap:wrap;\n",
              "      gap: 12px;\n",
              "    }\n",
              "\n",
              "    .colab-df-convert {\n",
              "      background-color: #E8F0FE;\n",
              "      border: none;\n",
              "      border-radius: 50%;\n",
              "      cursor: pointer;\n",
              "      display: none;\n",
              "      fill: #1967D2;\n",
              "      height: 32px;\n",
              "      padding: 0 0 0 0;\n",
              "      width: 32px;\n",
              "    }\n",
              "\n",
              "    .colab-df-convert:hover {\n",
              "      background-color: #E2EBFA;\n",
              "      box-shadow: 0px 1px 2px rgba(60, 64, 67, 0.3), 0px 1px 3px 1px rgba(60, 64, 67, 0.15);\n",
              "      fill: #174EA6;\n",
              "    }\n",
              "\n",
              "    [theme=dark] .colab-df-convert {\n",
              "      background-color: #3B4455;\n",
              "      fill: #D2E3FC;\n",
              "    }\n",
              "\n",
              "    [theme=dark] .colab-df-convert:hover {\n",
              "      background-color: #434B5C;\n",
              "      box-shadow: 0px 1px 3px 1px rgba(0, 0, 0, 0.15);\n",
              "      filter: drop-shadow(0px 1px 2px rgba(0, 0, 0, 0.3));\n",
              "      fill: #FFFFFF;\n",
              "    }\n",
              "  </style>\n",
              "\n",
              "      <script>\n",
              "        const buttonEl =\n",
              "          document.querySelector('#df-06582372-3004-4426-be72-09e4356cff7d button.colab-df-convert');\n",
              "        buttonEl.style.display =\n",
              "          google.colab.kernel.accessAllowed ? 'block' : 'none';\n",
              "\n",
              "        async function convertToInteractive(key) {\n",
              "          const element = document.querySelector('#df-06582372-3004-4426-be72-09e4356cff7d');\n",
              "          const dataTable =\n",
              "            await google.colab.kernel.invokeFunction('convertToInteractive',\n",
              "                                                     [key], {});\n",
              "          if (!dataTable) return;\n",
              "\n",
              "          const docLinkHtml = 'Like what you see? Visit the ' +\n",
              "            '<a target=\"_blank\" href=https://colab.research.google.com/notebooks/data_table.ipynb>data table notebook</a>'\n",
              "            + ' to learn more about interactive tables.';\n",
              "          element.innerHTML = '';\n",
              "          dataTable['output_type'] = 'display_data';\n",
              "          await google.colab.output.renderOutput(dataTable, element);\n",
              "          const docLink = document.createElement('div');\n",
              "          docLink.innerHTML = docLinkHtml;\n",
              "          element.appendChild(docLink);\n",
              "        }\n",
              "      </script>\n",
              "    </div>\n",
              "  </div>\n",
              "  "
            ],
            "text/plain": [
              "      id  Body Mass (g)\n",
              "0      0    4296.383416\n",
              "1      1    5617.179084\n",
              "2      2    3582.817492\n",
              "3      3    3341.965105\n",
              "4      4    3515.427193\n",
              "..   ...            ...\n",
              "223  223    4073.577714\n",
              "224  224    4701.297645\n",
              "225  225    4616.337314\n",
              "226  226    3959.971419\n",
              "227  227    4088.101545\n",
              "\n",
              "[228 rows x 2 columns]"
            ]
          },
          "metadata": {},
          "execution_count": 234
        }
      ]
    },
    {
      "cell_type": "code",
      "source": [
        ""
      ],
      "metadata": {
        "id": "J0ilUfUl-gi7"
      },
      "execution_count": 228,
      "outputs": []
    }
  ]
}